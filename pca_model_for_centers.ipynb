{
 "cells": [
  {
   "cell_type": "code",
   "execution_count": null,
   "id": "2d9f39b2",
   "metadata": {},
   "outputs": [],
   "source": [
    "import pickle\n",
    "import numpy as np\n",
    "from sklearn.decomposition import PCA"
   ]
  },
  {
   "cell_type": "code",
   "execution_count": null,
   "id": "6e536941",
   "metadata": {},
   "outputs": [],
   "source": [
    "with open(\"k_medoids_multi_5.203641425222681_157.pkl\", \"rb\") as f:\n",
    "    km = pickle.load(f)"
   ]
  },
  {
   "cell_type": "code",
   "execution_count": null,
   "id": "96e0770a",
   "metadata": {},
   "outputs": [],
   "source": [
    "centers = km.cluster_centers_"
   ]
  },
  {
   "cell_type": "code",
   "execution_count": null,
   "id": "10d47eaa",
   "metadata": {},
   "outputs": [],
   "source": [
    "centers = np.squeeze(centers)"
   ]
  },
  {
   "cell_type": "code",
   "execution_count": null,
   "id": "5c51d5ce",
   "metadata": {},
   "outputs": [],
   "source": [
    "X = centers\n",
    "pca = PCA(n_components=1)\n",
    "# fit the model with train(log_train) and then transform test X = #(center_nums, features)\n",
    "pca.fit(X)\n",
    "print(pca.explained_variance_ratio_)\n",
    "print(pca.singular_values_)"
   ]
  },
  {
   "cell_type": "code",
   "execution_count": null,
   "id": "80af47bb",
   "metadata": {},
   "outputs": [],
   "source": [
    "# Save the PCA model\n",
    "with open(\"k_medoids_pca_model.pkl\", \"rb\") as file:\n",
    "    pca = pickle.load(file)"
   ]
  }
 ],
 "metadata": {
  "language_info": {
   "name": "python"
  }
 },
 "nbformat": 4,
 "nbformat_minor": 5
}
